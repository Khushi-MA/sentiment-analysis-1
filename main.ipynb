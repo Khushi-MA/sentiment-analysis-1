{
 "cells": [
  {
   "cell_type": "markdown",
   "metadata": {},
   "source": [
    "# Manual identification of sentiments\n",
    "\n",
    "files used:\n",
    " - read.txt ([source](https://byrslf.co/happy-life-is-a-myth-d7df4d5a6a7))\n",
    " - emotions.txt\n",
    " - graph1.png"
   ]
  },
  {
   "cell_type": "code",
   "execution_count": 2,
   "metadata": {},
   "outputs": [],
   "source": [
    "import string\n",
    "import numpy as np\n",
    "from collections import Counter\n",
    "from matplotlib import pyplot as plt\n",
    "import GetOldTweets3 as got\n",
    "from nltk.corpus import stopwords\n"
   ]
  },
  {
   "cell_type": "code",
   "execution_count": 3,
   "metadata": {},
   "outputs": [
    {
     "name": "stdout",
     "output_type": "stream",
     "text": [
      "sometimes i feel lost and other times i feel as if i have conquered the world at times the laughter is not in my control and other times the tears can’t be held in my eyes\n",
      "\n",
      "when i am sad i wanna know how to overcome it but when my lips are busy laughing and screaming in happiness then i don’t find any problem with me\n",
      "\n",
      "why do i see sadness as a disease to be cured while happiness as a gift of life rather both are just emotions and part of life\n",
      "\n",
      "sometimes i try to find a solution so that i don’t have to be sad but with deep thinking i get to know without sadness the recipe of life is incomplete\n",
      "\n",
      "to give a taste to the recipe i need to put all the emotions in the plate of life\n",
      "\n",
      "sadness is a natural part of life as happiness is as human i will have to taste every flavour of life whether i like it or not and if anyone tries to escape from any flavour he will not be rewarded with his favourite one happiness\n",
      "\n",
      "if sadness would not be good then why i go to watch emotional movies these movies don’t give me any smile or laughter rather they make my eyes wet\n",
      "\n",
      "i like it because i enjoy being the part of character’s sadness it means i like being sad and wanna feel this emotion too and so do you all\n",
      "\n",
      "i listen to songs which make me cry and i love to indulge into the emotions of the song does that mean i love crying absolutely i do because sometimes i need tears more than the flattering lips\n",
      "\n",
      "the word happiness will lose its meaning if it were not balanced by sadness — carl jung\n",
      "\n",
      "the smile is being so overrated and people have become obsessed for getting this ingredient on their plate\n",
      "\n",
      "sorry to say but even successful people are taking it wrongly they are giving ways to become happy and how to fade away this sadness why is there any need of fading the sadness\n",
      "\n",
      "just live it cry and show your sorrow take your time and accept the truth that sadness is as much part of the life as happiness is if we have entered into the ring then we will have to play the moves we don’t like there is no escape from it\n",
      "\n",
      "\n",
      "i don’t wanna say be happy i would like to say be the emotion of yours\n",
      "god has made me and wants me to be human so why sometimes i try to become the god why i try to conquer my feelings\n",
      "\n",
      "do i wanna show off to the world with my smiling face or do i wanna take my perfect click why do i need the smiling face\n",
      "\n",
      "because the whole world wants to see my shining teeth and not the salty water falling down my cheeks i won’t do injustice with myself just to comfort them\n",
      "\n",
      "“the cure for anything is salt water — tears sweat or the sea ” — isak dinesen\n",
      "\n",
      "i know happiness is a dominant emotion which always attracts us towards it and our primary focus of all doing is to get this but is it right to let this emotion suppress others\n",
      "\n",
      "the energy put in suppressing the emotions bounce back with the equal reaction the sorrow i try to escape from will come back and hurt me more\n",
      "\n",
      "as what newton said “for every action there is an equal and opposite reaction”\n",
      "\n",
      "according to psychology suppressing our emotions consciously and deliberately in times when there is no trauma can lead to damaging effects on our mind and body this is how the sadness bounces back\n",
      "\n",
      "so if anyone confesses about his sorrow tell him it’s not a problem its a phase to be lived\n",
      "\n",
      "the only difference now i see in happiness and sadness is happiness is practiced in front of world and sadness is being practiced in loneliness it’s same as failure hits you in public while success cherish you in private\n",
      "\n",
      "the world can’t exist where everyone is in joy there is no grief everyone’s mouth is busy in laughing\n",
      "\n",
      "i believe in god if god has given me tears and sadness there may be a reason behind that there are so many variations in our feelings then why to get stuck in only one\n",
      "\n",
      "however if i wanna fulfill my crave of happiness there are so many articles making my ways through it there are so many people chasing it but they aren’t as happy as they show\n",
      "\n",
      "they do feel dejected at times and if they pretend as if they are always happy don’t believe them they are as humans as you and i am\n",
      "\n",
      "i am blessed to know this fact at this little age otherwise i would have been naive like others and spend my whole life chasing something while missing others\n",
      "\n",
      "my life is full of tragedies tears smiles confusion love care talk silence peace chaos and so much\n",
      "\n",
      "with this changed mindset i have build love for every moment there are swings in my feelings and i love to ride this roller coaster i hope you all do too\n",
      "\n",
      "i am happy for getting tears too hmmm i don’t need to be if you want your life to be tasty then taste every emotion of life\n",
      "\n",
      "the only way to be the happiest person is not to suppress the emotion of yours\n",
      "\n",
      "be sad when you feel so cry when you need to speak and let the words flow with your emotions stay silent when you feel the need of love yourself for the times you feel proud of being you hate yourself for the times you are ashamed of your capabilities let the chaos do its work\n",
      "\n",
      "feel boredom fear hope pleasure love everything because we have been given only one life to experience everything\n",
      "\n",
      "every emotion has its own importance and essence we should learn to appreciate the creation of god as we are one of them\n",
      "\n",
      "happy life is a myth\n",
      "happy life is a myth which everyone is expecting to get its a myth to only have smile and no tears so accepting the truth will make the tears easy to bear\n",
      "\n",
      "how many times you have heard and seen “best ways to be happy or how to be happy every single day etc etc” but no matter how much we try to be happy we can’t escape from experiencing the grief\n",
      "\n",
      "every person is preaching not to be sad i do wanna know the reason is it bad to be sad or is it as shameful to human beings as showing our naked body as if we are showing our naked souls through these emotions\n",
      "\n",
      "who wanna live that monotone life where there is only smile and no tears do you i don’t want to\n"
     ]
    }
   ],
   "source": [
    "text = open('read.txt', encoding='utf-8').read()\n",
    "lowercase = text.lower()\n",
    "import string\n",
    "cleantext = lowercase.translate(str.maketrans('', '', string.punctuation))\n",
    "\n",
    "tokens = cleantext.split()\n",
    "print(cleantext)"
   ]
  },
  {
   "cell_type": "code",
   "execution_count": 4,
   "metadata": {},
   "outputs": [
    {
     "name": "stdout",
     "output_type": "stream",
     "text": [
      "['sometimes', 'feel', 'lost', 'times', 'feel', 'conquered', 'world', 'times', 'laughter', 'control', 'times', 'tears', 'can’t', 'held', 'eyes', 'sad', 'wanna', 'know', 'overcome', 'lips', 'busy', 'laughing', 'screaming', 'happiness', 'don’t', 'find', 'problem', 'see', 'sadness', 'disease', 'cured', 'happiness', 'gift', 'life', 'rather', 'emotions', 'part', 'life', 'sometimes', 'try', 'find', 'solution', 'don’t', 'sad', 'deep', 'thinking', 'get', 'know', 'without', 'sadness', 'recipe', 'life', 'incomplete', 'give', 'taste', 'recipe', 'need', 'put', 'emotions', 'plate', 'life', 'sadness', 'natural', 'part', 'life', 'happiness', 'human', 'taste', 'every', 'flavour', 'life', 'whether', 'like', 'anyone', 'tries', 'escape', 'flavour', 'rewarded', 'favourite', 'one', 'happiness', 'sadness', 'would', 'good', 'go', 'watch', 'emotional', 'movies', 'movies', 'don’t', 'give', 'smile', 'laughter', 'rather', 'make', 'eyes', 'wet', 'like', 'enjoy', 'part', 'character’s', 'sadness', 'means', 'like', 'sad', 'wanna', 'feel', 'emotion', 'listen', 'songs', 'make', 'cry', 'love', 'indulge', 'emotions', 'song', 'mean', 'love', 'crying', 'absolutely', 'sometimes', 'need', 'tears', 'flattering', 'lips', 'word', 'happiness', 'lose', 'meaning', 'balanced', 'sadness', '—', 'carl', 'jung', 'smile', 'overrated', 'people', 'become', 'obsessed', 'getting', 'ingredient', 'plate', 'sorry', 'say', 'even', 'successful', 'people', 'taking', 'wrongly', 'giving', 'ways', 'become', 'happy', 'fade', 'away', 'sadness', 'need', 'fading', 'sadness', 'live', 'cry', 'show', 'sorrow', 'take', 'time', 'accept', 'truth', 'sadness', 'much', 'part', 'life', 'happiness', 'entered', 'ring', 'play', 'moves', 'don’t', 'like', 'escape', 'don’t', 'wanna', 'say', 'happy', 'would', 'like', 'say', 'emotion', 'god', 'made', 'wants', 'human', 'sometimes', 'try', 'become', 'god', 'try', 'conquer', 'feelings', 'wanna', 'show', 'world', 'smiling', 'face', 'wanna', 'take', 'perfect', 'click', 'need', 'smiling', 'face', 'whole', 'world', 'wants', 'see', 'shining', 'teeth', 'salty', 'water', 'falling', 'cheeks', 'won’t', 'injustice', 'comfort', '“the', 'cure', 'anything', 'salt', 'water', '—', 'tears', 'sweat', 'sea', '”', '—', 'isak', 'dinesen', 'know', 'happiness', 'dominant', 'emotion', 'always', 'attracts', 'us', 'towards', 'primary', 'focus', 'get', 'right', 'let', 'emotion', 'suppress', 'others', 'energy', 'put', 'suppressing', 'emotions', 'bounce', 'back', 'equal', 'reaction', 'sorrow', 'try', 'escape', 'come', 'back', 'hurt', 'newton', 'said', '“for', 'every', 'action', 'equal', 'opposite', 'reaction”', 'according', 'psychology', 'suppressing', 'emotions', 'consciously', 'deliberately', 'times', 'trauma', 'lead', 'damaging', 'effects', 'mind', 'body', 'sadness', 'bounces', 'back', 'anyone', 'confesses', 'sorrow', 'tell', 'it’s', 'problem', 'phase', 'lived', 'difference', 'see', 'happiness', 'sadness', 'happiness', 'practiced', 'front', 'world', 'sadness', 'practiced', 'loneliness', 'it’s', 'failure', 'hits', 'public', 'success', 'cherish', 'private', 'world', 'can’t', 'exist', 'everyone', 'joy', 'grief', 'everyone’s', 'mouth', 'busy', 'laughing', 'believe', 'god', 'god', 'given', 'tears', 'sadness', 'may', 'reason', 'behind', 'many', 'variations', 'feelings', 'get', 'stuck', 'one', 'however', 'wanna', 'fulfill', 'crave', 'happiness', 'many', 'articles', 'making', 'ways', 'many', 'people', 'chasing', 'aren’t', 'happy', 'show', 'feel', 'dejected', 'times', 'pretend', 'always', 'happy', 'don’t', 'believe', 'humans', 'blessed', 'know', 'fact', 'little', 'age', 'otherwise', 'would', 'naive', 'like', 'others', 'spend', 'whole', 'life', 'chasing', 'something', 'missing', 'others', 'life', 'full', 'tragedies', 'tears', 'smiles', 'confusion', 'love', 'care', 'talk', 'silence', 'peace', 'chaos', 'much', 'changed', 'mindset', 'build', 'love', 'every', 'moment', 'swings', 'feelings', 'love', 'ride', 'roller', 'coaster', 'hope', 'happy', 'getting', 'tears', 'hmmm', 'don’t', 'need', 'want', 'life', 'tasty', 'taste', 'every', 'emotion', 'life', 'way', 'happiest', 'person', 'suppress', 'emotion', 'sad', 'feel', 'cry', 'need', 'speak', 'let', 'words', 'flow', 'emotions', 'stay', 'silent', 'feel', 'need', 'love', 'times', 'feel', 'proud', 'hate', 'times', 'ashamed', 'capabilities', 'let', 'chaos', 'work', 'feel', 'boredom', 'fear', 'hope', 'pleasure', 'love', 'everything', 'given', 'one', 'life', 'experience', 'everything', 'every', 'emotion', 'importance', 'essence', 'learn', 'appreciate', 'creation', 'god', 'one', 'happy', 'life', 'myth', 'happy', 'life', 'myth', 'everyone', 'expecting', 'get', 'myth', 'smile', 'tears', 'accepting', 'truth', 'make', 'tears', 'easy', 'bear', 'many', 'times', 'heard', 'seen', '“best', 'ways', 'happy', 'happy', 'every', 'single', 'day', 'etc', 'etc”', 'matter', 'much', 'try', 'happy', 'can’t', 'escape', 'experiencing', 'grief', 'every', 'person', 'preaching', 'sad', 'wanna', 'know', 'reason', 'bad', 'sad', 'shameful', 'human', 'beings', 'showing', 'naked', 'body', 'showing', 'naked', 'souls', 'emotions', 'wanna', 'live', 'monotone', 'life', 'smile', 'tears', 'don’t', 'want']\n"
     ]
    }
   ],
   "source": [
    "stop_words = [\"i\", \"me\", \"my\", \"myself\", \"we\", \"our\", \"ours\", \"ourselves\", \"you\", \"your\", \"yours\", \"yourself\", \"yourselves\", \"he\", \"him\", \"his\", \"himself\", \"she\", \"her\", \"hers\", \"herself\", \"it\", \"its\", \"itself\",\"they\", \"them\", \"their\", \"theirs\", \"themselves\", \"what\", \"which\", \"who\", \"whom\", \"this\", \"that\", \"these\", \"those\", \"am\", \"is\", \"are\", \"was\", \"were\", \"be\", \"been\", \"being\", \"have\", \"has\", \"had\", \"having\", \"do\", \"does\", \"did\", \"doing\", \"a\", \"an\", \"the\", \"and\", \"but\", \"if\", \"or\", \"because\", \"as\", \"until\", \"while\",\"of\", \"at\", \"by\", \"for\", \"with\", \"about\", \"against\", \"between\", \"into\", \"through\", \"during\", \"before\", \"after\", \"above\", \"below\", \"to\", \"from\", \"up\", \"down\", \"in\", \"out\", \"on\", \"off\", \"over\", \"under\", \"again\", \"further\", \"then\", \"once\", \"here\", \"there\", \"when\", \"where\", \"why\", \"how\", \"all\", \"any\", \"both\", \"each\", \"few\", \"more\", \"most\", \"other\", \"some\", \"such\", \"no\", \"nor\", \"not\", \"only\", \"own\", \"same\", \"so\", \"than\", \"too\", \"very\", \"s\", \"t\", \"can\", \"will\", \"just\", \"don\", \"should\", \"now\"]\n",
    "\n",
    "finalwords = []\n",
    "for word in tokens:\n",
    "    if word not in stop_words:\n",
    "        finalwords.append(word)\n",
    "\n",
    "print(finalwords)"
   ]
  },
  {
   "cell_type": "code",
   "execution_count": 5,
   "metadata": {},
   "outputs": [
    {
     "name": "stdout",
     "output_type": "stream",
     "text": [
      "[' sad', ' happy', ' sad', ' lost', ' obsessed', ' happy', ' sad', ' embarrassed']\n"
     ]
    }
   ],
   "source": [
    "emotionlist = []\n",
    "\n",
    "with open('emotions.txt', 'r') as file:\n",
    "    for line in file:\n",
    "        clearline = line.replace('\\n', '').replace(',', '').replace(\",\", '').replace(\"'\", '').strip()\n",
    "        word, emotion = clearline.split(\":\")\n",
    "        # print(\"Word: \" + word + \"\\t; \" + \"Emotion: \" + emotion)\n",
    "\n",
    "        if word in finalwords:\n",
    "            emotionlist.append(emotion)\n",
    "        \n",
    "    \n",
    "print(emotionlist)"
   ]
  },
  {
   "cell_type": "code",
   "execution_count": 6,
   "metadata": {},
   "outputs": [
    {
     "name": "stdout",
     "output_type": "stream",
     "text": [
      "Counter({' sad': 3, ' happy': 2, ' lost': 1, ' obsessed': 1, ' embarrassed': 1})\n"
     ]
    }
   ],
   "source": [
    "from collections import Counter\n",
    "w = Counter(emotionlist)\n",
    "print(w)"
   ]
  },
  {
   "cell_type": "code",
   "execution_count": 7,
   "metadata": {},
   "outputs": [
    {
     "data": {
      "image/png": "[encoded data removed]",
      "text/plain": [
       "<Figure size 640x480 with 1 Axes>"
      ]
     },
     "metadata": {},
     "output_type": "display_data"
    }
   ],
   "source": [
    "import matplotlib.pyplot as plt\n",
    "\n",
    "fig, ax1 = plt.subplots()\n",
    "plt.bar(w.keys(), w.values())\n",
    "fig.autofmt_xdate()\n",
    "plt.savefig('graph1.png')\n",
    "plt.show()"
   ]
  },
  {
   "cell_type": "markdown",
   "metadata": {},
   "source": [
    "## Twitter Analysis 1"
   ]
  },
  {
   "cell_type": "code",
   "execution_count": 8,
   "metadata": {},
   "outputs": [],
   "source": [
    "import GetOldTweets3 as got"
   ]
  },
  {
   "cell_type": "code",
   "execution_count": 1,
   "metadata": {},
   "outputs": [],
   "source": [
    "# import GetOldTweets3 as got\n",
    "\n",
    "# def get_tweets():\n",
    "#     tweetCriteria = got.manager.TweetCriteria().setQuerySearch('coronavirus') \\\n",
    "#         .setSince(\"2020-03-01\") \\\n",
    "#         .setUntil(\"2020-03-31\") \\\n",
    "#         .setMaxTweets(100)\n",
    "#     # Creation of list that contains all tweets\n",
    "#     tweets = got.manager.TweetManager.getTweets(tweetCriteria)\n",
    "\n",
    "#     # Creating list of chosen tweet data\n",
    "#     text_tweets = [[tweet.text] for tweet in tweets]\n",
    "#     return text_tweets\n",
    "\n",
    "# get_tweets()\n",
    "\n",
    "text = \"\"\n",
    "text_tweee = get_tweets()\n",
    "length = len(text_tweets)\n",
    "\n",
    "for (i) in range(0, length):\n",
    "    text = text_tweets[i][0] + \" \" + text"
   ]
  },
  {
   "cell_type": "code",
   "execution_count": null,
   "metadata": {},
   "outputs": [],
   "source": []
  },
  {
   "cell_type": "code",
   "execution_count": null,
   "metadata": {},
   "outputs": [],
   "source": []
  },
  {
   "cell_type": "code",
   "execution_count": null,
   "metadata": {},
   "outputs": [],
   "source": []
  }
 ],
 "metadata": {
  "kernelspec": {
   "display_name": "base",
   "language": "python",
   "name": "python3"
  },
  "language_info": {
   "codemirror_mode": {
    "name": "ipython",
    "version": 3
   },
   "file_extension": ".py",
   "mimetype": "text/x-python",
   "name": "python",
   "nbconvert_exporter": "python",
   "pygments_lexer": "ipython3",
   "version": "3.12.4"
  }
 },
 "nbformat": 4,
 "nbformat_minor": 2
}
